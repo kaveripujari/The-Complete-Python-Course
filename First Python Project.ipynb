{
 "cells": [
  {
   "cell_type": "markdown",
   "metadata": {},
   "source": [
    "# A Movie Application APP"
   ]
  },
  {
   "cell_type": "code",
   "execution_count": 36,
   "metadata": {},
   "outputs": [
    {
     "name": "stdout",
     "output_type": "stream",
     "text": [
      "\n",
      "Enter 'a'to add movie, \n",
      "'l' to see the list of your movies, \n",
      "'f' to find the movies by title, \n",
      "'q' to quit:f\n",
      "Enter the movie title you are looking for:asd\n",
      "\n",
      "Enter 'a'to add movie, \n",
      "'l' to see the list of your movies, \n",
      "'f' to find the movies by title, \n",
      "'q' to quit:q\n"
     ]
    }
   ],
   "source": [
    "Menu_Prompt = \"\\nEnter 'a'to add movie, \\n'l' to see the list of your movies, \\n'f' to find the movies by title, \\n'q' to quit:\"\n",
    "\n",
    "movies = []\n",
    "\n",
    "def add_movie():\n",
    "    title = input(\"Enter the Movies Title:\")\n",
    "    director = input(\"Enter the Movie Director Name:\")\n",
    "    year = input(\"Enter the Movie released year:\")\n",
    "    \n",
    "    movies.append({\n",
    "        'Title': title,\n",
    "        'Director': director,\n",
    "        'Year': year\n",
    "    })\n",
    "\n",
    "def show_movies():\n",
    "    for movie in movies:\n",
    "        print_movie(movie) #calling disctiory, passing an argument\n",
    "        \n",
    "def print_movie(movie): #New variable created when this function run\n",
    "    print(f\"Title: {movie['Title']}\")\n",
    "    print(f\"Director: {movie['Director']}\")\n",
    "    print(f\"Released Year: {movie['Year']}\")\n",
    "\n",
    "def find_movie():\n",
    "    search_title = input(\"Enter the movie title you are looking for:\")\n",
    "    \n",
    "    for movie in movies:\n",
    "        if movie[\"title\"] == search_title:\n",
    "            print_movie(movie)\n",
    "\n",
    "            \n",
    "def menu():\n",
    "    selection = input(Menu_Prompt)\n",
    "    while selection != 'q':\n",
    "        if selection == \"a\":\n",
    "            add_movie()\n",
    "        elif selection == \"l\":\n",
    "            show_movies()\n",
    "        elif selection == \"f\":\n",
    "            find_movie()\n",
    "        else:\n",
    "            print('unknown command. Please try again.')\n",
    "        selection = input(Menu_Prompt)\n",
    "\n",
    "menu()\n",
    "    \n",
    "        "
   ]
  },
  {
   "cell_type": "code",
   "execution_count": null,
   "metadata": {},
   "outputs": [],
   "source": []
  },
  {
   "cell_type": "code",
   "execution_count": null,
   "metadata": {},
   "outputs": [],
   "source": []
  },
  {
   "cell_type": "code",
   "execution_count": null,
   "metadata": {},
   "outputs": [],
   "source": []
  },
  {
   "cell_type": "code",
   "execution_count": null,
   "metadata": {},
   "outputs": [],
   "source": []
  }
 ],
 "metadata": {
  "kernelspec": {
   "display_name": "Python 3",
   "language": "python",
   "name": "python3"
  },
  "language_info": {
   "codemirror_mode": {
    "name": "ipython",
    "version": 3
   },
   "file_extension": ".py",
   "mimetype": "text/x-python",
   "name": "python",
   "nbconvert_exporter": "python",
   "pygments_lexer": "ipython3",
   "version": "3.8.3"
  }
 },
 "nbformat": 4,
 "nbformat_minor": 4
}
