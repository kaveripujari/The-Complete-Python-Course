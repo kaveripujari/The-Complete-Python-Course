{
 "cells": [
  {
   "cell_type": "markdown",
   "metadata": {},
   "source": [
    "# Error And Exception"
   ]
  },
  {
   "cell_type": "code",
   "execution_count": null,
   "metadata": {},
   "outputs": [],
   "source": [
    "#AssertionError: Raised when an assert statement fails.\n",
    "#AttributeError: Raised when attribute assignment or reference fails.\n",
    "#EOFError: Raised when the input() function hits end-of-file condition.\n",
    "#FloatingPointError: Raised when a floating point operation fails.\n",
    "#GeneratorExit: Raise when a generator's close() method is called.\n",
    "#ImportError: Raised when the imported module is not found.\n",
    "#IndexError: Raised when the index of a sequence is out of range.\n",
    "#KeyError: Raised when a key is not found in a dictionary.\n",
    "#KeyboardInterrupt: Raised when the user hits the interrupt key (Ctrl+C or Delete).\n",
    "#MemoryError: Raised when an operation runs out of memory.\n",
    "#NameError: Raised when a variable is not found in local or global scope.\n",
    "#NotImplementedError: Raised by abstract methods.\n",
    "#OSError: Raised when system operation causes system related error.\n",
    "#OverflowError: Raised when the result of an arithmetic operation is too large to be represented.\n",
    "#ReferenceError: Raised when a weak reference proxy is used to access a garbage collected referent.\n",
    "#RuntimeError: Raised when an error does not fall under any other category.\n",
    "#StopIteration: Raised by next() function to indicate that there is no further item to be returned by iterator.\n",
    "#SyntaxError: Raised by parser when syntax error is encountered.\n",
    "#IndentationError: Raised when there is incorrect indentation.\n",
    "#TabError: Raised when indentation consists of inconsistent tabs and spaces.\n",
    "#SystemError: Raised when interpreter detects internal error.\n",
    "#SystemExit: Raised by sys.exit() function.\n",
    "#TypeError: Raised when a function or operation is applied to an object of incorrect type.\n",
    "#UnboundLocalError: Raised when a reference is made to a local variable in a function or method, but no value has been bound to that variable.\n",
    "#UnicodeError: Raised when a Unicode-related encoding or decoding error occurs.\n",
    "#UnicodeEncodeError: Raised when a Unicode-related error occurs during encoding.\n",
    "#UnicodeDecodeError: Raised when a Unicode-related error occurs during decoding.\n",
    "#UnicodeTranslateError: Raised when a Unicode-related error occurs during translating.\n",
    "#ValueError: Raised when a function gets an argument of correct type but improper value.\n",
    "#ZeroDivisionError:Raised when the second operand of division or modulo operation is zero."
   ]
  },
  {
   "cell_type": "code",
   "execution_count": null,
   "metadata": {},
   "outputs": [],
   "source": []
  },
  {
   "cell_type": "markdown",
   "metadata": {},
   "source": [
    "## ZeroDivision Error"
   ]
  },
  {
   "cell_type": "code",
   "execution_count": 4,
   "metadata": {},
   "outputs": [
    {
     "name": "stdout",
     "output_type": "stream",
     "text": [
      "Enter the numerator:12\n",
      "Enter the numbertor:4\n",
      "3.0\n",
      "program Ends\n"
     ]
    }
   ],
   "source": [
    "#Denominator can not be zero.\n",
    "\n",
    "try:\n",
    "    numerator = int(input(\"Enter the numerator:\"))\n",
    "    denominator = int(input(\"Enter the numbertor:\"))\n",
    "    result = numerator/denominator\n",
    "    print(result)\n",
    "except ZeroDivisionError:\n",
    "    print(\"denominator can'not be zero.\")\n",
    "    \n",
    "print(\"program Ends\")"
   ]
  },
  {
   "cell_type": "markdown",
   "metadata": {},
   "source": [
    "## IndexError"
   ]
  },
  {
   "cell_type": "code",
   "execution_count": 6,
   "metadata": {},
   "outputs": [
    {
     "name": "stdout",
     "output_type": "stream",
     "text": [
      "Enter the index:2\n",
      "3\n"
     ]
    }
   ],
   "source": [
    "try:\n",
    "    my_list = [1,2,3]\n",
    "    i = int(input(\"Enter the index:\"))\n",
    "    print(my_list[i])\n",
    "except IndexError:\n",
    "    print(\"Index can not be greeter than the list\")\n"
   ]
  },
  {
   "cell_type": "markdown",
   "metadata": {},
   "source": [
    "## Python Built-in Exceptions"
   ]
  },
  {
   "cell_type": "code",
   "execution_count": 7,
   "metadata": {},
   "outputs": [
    {
     "name": "stdout",
     "output_type": "stream",
     "text": [
      "['ArithmeticError', 'AssertionError', 'AttributeError', 'BaseException', 'BlockingIOError', 'BrokenPipeError', 'BufferError', 'BytesWarning', 'ChildProcessError', 'ConnectionAbortedError', 'ConnectionError', 'ConnectionRefusedError', 'ConnectionResetError', 'DeprecationWarning', 'EOFError', 'Ellipsis', 'EnvironmentError', 'Exception', 'False', 'FileExistsError', 'FileNotFoundError', 'FloatingPointError', 'FutureWarning', 'GeneratorExit', 'IOError', 'ImportError', 'ImportWarning', 'IndentationError', 'IndexError', 'InterruptedError', 'IsADirectoryError', 'KeyError', 'KeyboardInterrupt', 'LookupError', 'MemoryError', 'ModuleNotFoundError', 'NameError', 'None', 'NotADirectoryError', 'NotImplemented', 'NotImplementedError', 'OSError', 'OverflowError', 'PendingDeprecationWarning', 'PermissionError', 'ProcessLookupError', 'RecursionError', 'ReferenceError', 'ResourceWarning', 'RuntimeError', 'RuntimeWarning', 'StopAsyncIteration', 'StopIteration', 'SyntaxError', 'SyntaxWarning', 'SystemError', 'SystemExit', 'TabError', 'TimeoutError', 'True', 'TypeError', 'UnboundLocalError', 'UnicodeDecodeError', 'UnicodeEncodeError', 'UnicodeError', 'UnicodeTranslateError', 'UnicodeWarning', 'UserWarning', 'ValueError', 'Warning', 'WindowsError', 'ZeroDivisionError', '__IPYTHON__', '__build_class__', '__debug__', '__doc__', '__import__', '__loader__', '__name__', '__package__', '__spec__', 'abs', 'all', 'any', 'ascii', 'bin', 'bool', 'breakpoint', 'bytearray', 'bytes', 'callable', 'chr', 'classmethod', 'compile', 'complex', 'copyright', 'credits', 'delattr', 'dict', 'dir', 'display', 'divmod', 'enumerate', 'eval', 'exec', 'filter', 'float', 'format', 'frozenset', 'get_ipython', 'getattr', 'globals', 'hasattr', 'hash', 'help', 'hex', 'id', 'input', 'int', 'isinstance', 'issubclass', 'iter', 'len', 'license', 'list', 'locals', 'map', 'max', 'memoryview', 'min', 'next', 'object', 'oct', 'open', 'ord', 'pow', 'print', 'property', 'range', 'repr', 'reversed', 'round', 'set', 'setattr', 'slice', 'sorted', 'staticmethod', 'str', 'sum', 'super', 'tuple', 'type', 'vars', 'zip']\n"
     ]
    }
   ],
   "source": [
    "print(dir(locals()['__builtins__']))"
   ]
  },
  {
   "cell_type": "code",
   "execution_count": null,
   "metadata": {},
   "outputs": [],
   "source": []
  }
 ],
 "metadata": {
  "kernelspec": {
   "display_name": "Python 3",
   "language": "python",
   "name": "python3"
  },
  "language_info": {
   "codemirror_mode": {
    "name": "ipython",
    "version": 3
   },
   "file_extension": ".py",
   "mimetype": "text/x-python",
   "name": "python",
   "nbconvert_exporter": "python",
   "pygments_lexer": "ipython3",
   "version": "3.8.3"
  }
 },
 "nbformat": 4,
 "nbformat_minor": 4
}
